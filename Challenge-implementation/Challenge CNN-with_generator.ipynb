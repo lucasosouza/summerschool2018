{
 "cells": [
  {
   "cell_type": "code",
   "execution_count": 31,
   "metadata": {
    "collapsed": false
   },
   "outputs": [],
   "source": [
    "import keras\n",
    "from keras.models import Model\n",
    "from keras.layers import *\n",
    "from keras.optimizers import *\n",
    "import keras.backend as K"
   ]
  },
  {
   "cell_type": "code",
   "execution_count": 2,
   "metadata": {
    "collapsed": true
   },
   "outputs": [],
   "source": [
    "import matplotlib.pyplot as plt\n",
    "import numpy as np\n",
    "import math\n",
    "import tensorflow as tf\n",
    "import pandas as pd\n",
    "import keras\n",
    "from keras.layers import Input, Dense, Activation, BatchNormalization, Flatten, Conv2D, MaxPooling2D, Dropout, Reshape\n",
    "from keras.models import Model\n",
    "import cv2\n",
    "%matplotlib inline"
   ]
  },
  {
   "cell_type": "code",
   "execution_count": 3,
   "metadata": {
    "collapsed": false
   },
   "outputs": [],
   "source": [
    "import h5py\n",
    "with h5py.File('dataset.h5','r') as hf:\n",
    "    X = hf['X'][:]\n",
    "    y = hf['y'][:]\n",
    "    X_test = hf['X_test'][:]"
   ]
  },
  {
   "cell_type": "code",
   "execution_count": 4,
   "metadata": {
    "collapsed": true
   },
   "outputs": [],
   "source": [
    "from sklearn.model_selection import train_test_split\n",
    "X_train, X_val, y_train, y_val = train_test_split(X, y, test_size=0.20, random_state=42)\n"
   ]
  },
  {
   "cell_type": "code",
   "execution_count": 5,
   "metadata": {
    "collapsed": true
   },
   "outputs": [],
   "source": [
    "X_train = X_train.astype('float32')\n",
    "X_val = X_val.astype('float32')\n",
    "X_test = X_test.astype('float32')\n",
    "\n",
    "X_train /= 255\n",
    "X_val  /= 255\n",
    "X_test /= 255\n",
    "\n",
    "X_train = X_train.reshape(-1,256,256,1)\n",
    "X_val = X_val.reshape(-1,256,256,1)\n",
    "X_test = X_test.reshape(-1,256,256,1)"
   ]
  },
  {
   "cell_type": "code",
   "execution_count": 53,
   "metadata": {
    "collapsed": false
   },
   "outputs": [
    {
     "data": {
      "text/plain": [
       "(120, 256, 256, 1)"
      ]
     },
     "execution_count": 53,
     "metadata": {},
     "output_type": "execute_result"
    }
   ],
   "source": [
    "X_train.shape"
   ]
  },
  {
   "cell_type": "code",
   "execution_count": 9,
   "metadata": {
    "collapsed": true
   },
   "outputs": [],
   "source": [
    "def create(input_shape, drop_prob=0.6):\n",
    "\n",
    "    X_input = Input(input_shape, name='input')    \n",
    "\n",
    "    X = Conv2D(8, (9,9), strides=(1,1), padding='same')(X_input)\n",
    "    X = BatchNormalization(axis=3)(X)\n",
    "    X = Activation('relu')(X)\n",
    "    X = MaxPooling2D((2,2))(X)\n",
    "    \n",
    "    X = Conv2D(16, (7,7), strides=(1,1), padding='same')(X)\n",
    "    X = BatchNormalization(axis=3)(X)\n",
    "    X = Activation('relu')(X)\n",
    "    X = MaxPooling2D((2,2))(X)\n",
    "\n",
    "    X = Conv2D(32, (3,3), strides=(1,1), padding='same')(X)\n",
    "    X = BatchNormalization(axis=3)(X)\n",
    "    X = Activation('relu')(X)\n",
    "    X = MaxPooling2D((2,2))(X)\n",
    "\n",
    "    X = Conv2D(32, (3,3), strides=(1,1), padding='same')(X)\n",
    "    X = BatchNormalization(axis=3)(X)\n",
    "    X = Activation('relu')(X)\n",
    "    X = MaxPooling2D((2,2))(X)\n",
    "\n",
    "    X = Conv2D(64, (3,3), strides=(1,1), padding='same')(X)\n",
    "    X = BatchNormalization(axis=3)(X)\n",
    "    X = Activation('relu')(X)\n",
    "    X = MaxPooling2D((2,2))(X)\n",
    "\n",
    "    X = Conv2D(64, (3,3), strides=(1,1), padding='same')(X)\n",
    "    X = BatchNormalization(axis=3)(X)\n",
    "    X = Activation('relu')(X)\n",
    "    X = MaxPooling2D((2,2))(X)\n",
    "\n",
    "    X = Conv2D(128, (3,3), strides=(1,1), padding='same')(X)\n",
    "    X = BatchNormalization(axis=3)(X)\n",
    "    X = Activation('relu')(X)\n",
    "    X = MaxPooling2D((2,2))(X)\n",
    "\n",
    "    X = Conv2D(256, (3,3), strides=(1,1), padding='same')(X)\n",
    "    X = BatchNormalization(axis=3)(X)\n",
    "    X = Activation('relu')(X)\n",
    "    X = MaxPooling2D((2,2))(X)\n",
    "\n",
    "    X = Flatten()(X)\n",
    "    X = Dense(50, activation='relu')(X)\n",
    "    X = Dropout(drop_prob)(X)\n",
    "    X = Dense(20, activation='relu')(X)\n",
    "    X = Dropout(drop_prob)(X)\n",
    "    X = Dense(1, activation='sigmoid')(X)\n",
    "\n",
    "    model = Model(inputs=X_input, outputs=X)\n",
    "    model.compile(\n",
    "        optimizer='Adam',\n",
    "        loss='binary_crossentropy',\n",
    "        metrics=['accuracy']\n",
    "    )\n",
    "\n",
    "    return model"
   ]
  },
  {
   "cell_type": "code",
   "execution_count": 10,
   "metadata": {
    "collapsed": false
   },
   "outputs": [
    {
     "name": "stdout",
     "output_type": "stream",
     "text": [
      "_________________________________________________________________\n",
      "Layer (type)                 Output Shape              Param #   \n",
      "=================================================================\n",
      "input (InputLayer)           (None, 256, 256, 1)       0         \n",
      "_________________________________________________________________\n",
      "conv2d_1 (Conv2D)            (None, 256, 256, 8)       656       \n",
      "_________________________________________________________________\n",
      "batch_normalization_1 (Batch (None, 256, 256, 8)       32        \n",
      "_________________________________________________________________\n",
      "activation_1 (Activation)    (None, 256, 256, 8)       0         \n",
      "_________________________________________________________________\n",
      "max_pooling2d_1 (MaxPooling2 (None, 128, 128, 8)       0         \n",
      "_________________________________________________________________\n",
      "conv2d_2 (Conv2D)            (None, 128, 128, 16)      6288      \n",
      "_________________________________________________________________\n",
      "batch_normalization_2 (Batch (None, 128, 128, 16)      64        \n",
      "_________________________________________________________________\n",
      "activation_2 (Activation)    (None, 128, 128, 16)      0         \n",
      "_________________________________________________________________\n",
      "max_pooling2d_2 (MaxPooling2 (None, 64, 64, 16)        0         \n",
      "_________________________________________________________________\n",
      "conv2d_3 (Conv2D)            (None, 64, 64, 32)        4640      \n",
      "_________________________________________________________________\n",
      "batch_normalization_3 (Batch (None, 64, 64, 32)        128       \n",
      "_________________________________________________________________\n",
      "activation_3 (Activation)    (None, 64, 64, 32)        0         \n",
      "_________________________________________________________________\n",
      "max_pooling2d_3 (MaxPooling2 (None, 32, 32, 32)        0         \n",
      "_________________________________________________________________\n",
      "conv2d_4 (Conv2D)            (None, 32, 32, 32)        9248      \n",
      "_________________________________________________________________\n",
      "batch_normalization_4 (Batch (None, 32, 32, 32)        128       \n",
      "_________________________________________________________________\n",
      "activation_4 (Activation)    (None, 32, 32, 32)        0         \n",
      "_________________________________________________________________\n",
      "max_pooling2d_4 (MaxPooling2 (None, 16, 16, 32)        0         \n",
      "_________________________________________________________________\n",
      "conv2d_5 (Conv2D)            (None, 16, 16, 64)        18496     \n",
      "_________________________________________________________________\n",
      "batch_normalization_5 (Batch (None, 16, 16, 64)        256       \n",
      "_________________________________________________________________\n",
      "activation_5 (Activation)    (None, 16, 16, 64)        0         \n",
      "_________________________________________________________________\n",
      "max_pooling2d_5 (MaxPooling2 (None, 8, 8, 64)          0         \n",
      "_________________________________________________________________\n",
      "conv2d_6 (Conv2D)            (None, 8, 8, 64)          36928     \n",
      "_________________________________________________________________\n",
      "batch_normalization_6 (Batch (None, 8, 8, 64)          256       \n",
      "_________________________________________________________________\n",
      "activation_6 (Activation)    (None, 8, 8, 64)          0         \n",
      "_________________________________________________________________\n",
      "max_pooling2d_6 (MaxPooling2 (None, 4, 4, 64)          0         \n",
      "_________________________________________________________________\n",
      "conv2d_7 (Conv2D)            (None, 4, 4, 128)         73856     \n",
      "_________________________________________________________________\n",
      "batch_normalization_7 (Batch (None, 4, 4, 128)         512       \n",
      "_________________________________________________________________\n",
      "activation_7 (Activation)    (None, 4, 4, 128)         0         \n",
      "_________________________________________________________________\n",
      "max_pooling2d_7 (MaxPooling2 (None, 2, 2, 128)         0         \n",
      "_________________________________________________________________\n",
      "conv2d_8 (Conv2D)            (None, 2, 2, 256)         295168    \n",
      "_________________________________________________________________\n",
      "batch_normalization_8 (Batch (None, 2, 2, 256)         1024      \n",
      "_________________________________________________________________\n",
      "activation_8 (Activation)    (None, 2, 2, 256)         0         \n",
      "_________________________________________________________________\n",
      "max_pooling2d_8 (MaxPooling2 (None, 1, 1, 256)         0         \n",
      "_________________________________________________________________\n",
      "flatten_1 (Flatten)          (None, 256)               0         \n",
      "_________________________________________________________________\n",
      "dense_1 (Dense)              (None, 50)                12850     \n",
      "_________________________________________________________________\n",
      "dropout_1 (Dropout)          (None, 50)                0         \n",
      "_________________________________________________________________\n",
      "dense_2 (Dense)              (None, 20)                1020      \n",
      "_________________________________________________________________\n",
      "dropout_2 (Dropout)          (None, 20)                0         \n",
      "_________________________________________________________________\n",
      "dense_3 (Dense)              (None, 1)                 21        \n",
      "=================================================================\n",
      "Total params: 461,571\n",
      "Trainable params: 460,371\n",
      "Non-trainable params: 1,200\n",
      "_________________________________________________________________\n"
     ]
    }
   ],
   "source": [
    "model = create(X_train.shape[1:], drop_prob=0.4)\n",
    "model.summary()"
   ]
  },
  {
   "cell_type": "code",
   "execution_count": 11,
   "metadata": {
    "collapsed": false,
    "scrolled": true
   },
   "outputs": [
    {
     "name": "stdout",
     "output_type": "stream",
     "text": [
      "Train on 120 samples, validate on 30 samples\n",
      "Epoch 1/50\n",
      "120/120 [==============================] - 15s 127ms/step - loss: 0.7960 - acc: 0.5833 - val_loss: 0.7699 - val_acc: 0.5333\n",
      "Epoch 2/50\n",
      "120/120 [==============================] - 13s 105ms/step - loss: 0.7120 - acc: 0.5667 - val_loss: 0.6653 - val_acc: 0.6000\n",
      "Epoch 3/50\n",
      "120/120 [==============================] - 13s 105ms/step - loss: 0.7199 - acc: 0.4500 - val_loss: 0.6822 - val_acc: 0.5667\n",
      "Epoch 4/50\n",
      "120/120 [==============================] - 13s 111ms/step - loss: 0.6559 - acc: 0.5833 - val_loss: 0.6468 - val_acc: 0.6333\n",
      "Epoch 5/50\n",
      "120/120 [==============================] - 13s 107ms/step - loss: 0.6292 - acc: 0.6167 - val_loss: 0.7298 - val_acc: 0.6333\n",
      "Epoch 6/50\n",
      "120/120 [==============================] - 13s 107ms/step - loss: 0.4896 - acc: 0.7667 - val_loss: 0.5853 - val_acc: 0.6333\n",
      "Epoch 7/50\n",
      "120/120 [==============================] - 13s 105ms/step - loss: 0.4163 - acc: 0.8167 - val_loss: 0.7040 - val_acc: 0.6333\n",
      "Epoch 8/50\n",
      "120/120 [==============================] - 13s 105ms/step - loss: 0.6096 - acc: 0.7167 - val_loss: 0.6454 - val_acc: 0.6000\n",
      "Epoch 9/50\n",
      "120/120 [==============================] - 13s 107ms/step - loss: 0.4245 - acc: 0.7917 - val_loss: 0.6702 - val_acc: 0.6000\n",
      "Epoch 10/50\n",
      "120/120 [==============================] - 13s 105ms/step - loss: 0.4053 - acc: 0.7500 - val_loss: 0.5906 - val_acc: 0.6667\n",
      "Epoch 11/50\n",
      "120/120 [==============================] - 13s 104ms/step - loss: 0.3312 - acc: 0.8583 - val_loss: 0.7181 - val_acc: 0.6333\n",
      "Epoch 12/50\n",
      "120/120 [==============================] - 12s 104ms/step - loss: 0.3700 - acc: 0.8667 - val_loss: 2.2109 - val_acc: 0.5667\n",
      "Epoch 13/50\n",
      "120/120 [==============================] - 12s 104ms/step - loss: 0.4167 - acc: 0.8417 - val_loss: 0.6477 - val_acc: 0.6667\n",
      "Epoch 14/50\n",
      "120/120 [==============================] - 12s 104ms/step - loss: 0.3858 - acc: 0.8167 - val_loss: 0.7964 - val_acc: 0.6333\n",
      "Epoch 15/50\n",
      "120/120 [==============================] - 13s 105ms/step - loss: 0.3543 - acc: 0.8417 - val_loss: 0.9287 - val_acc: 0.6000\n",
      "Epoch 16/50\n",
      "120/120 [==============================] - 12s 104ms/step - loss: 0.3602 - acc: 0.8667 - val_loss: 0.9069 - val_acc: 0.6000\n",
      "Epoch 17/50\n",
      "120/120 [==============================] - 12s 104ms/step - loss: 0.2935 - acc: 0.8833 - val_loss: 0.8799 - val_acc: 0.7667\n",
      "Epoch 18/50\n",
      "120/120 [==============================] - 13s 104ms/step - loss: 0.1970 - acc: 0.9167 - val_loss: 0.6333 - val_acc: 0.8000\n",
      "Epoch 19/50\n",
      "120/120 [==============================] - 12s 104ms/step - loss: 0.1396 - acc: 0.9583 - val_loss: 0.5747 - val_acc: 0.7667\n",
      "Epoch 20/50\n",
      "120/120 [==============================] - 13s 105ms/step - loss: 0.0684 - acc: 0.9917 - val_loss: 1.3390 - val_acc: 0.7667\n",
      "Epoch 21/50\n",
      "120/120 [==============================] - 12s 104ms/step - loss: 0.0844 - acc: 0.9583 - val_loss: 1.2499 - val_acc: 0.8000\n",
      "Epoch 22/50\n",
      "120/120 [==============================] - 13s 105ms/step - loss: 0.0527 - acc: 0.9833 - val_loss: 0.9564 - val_acc: 0.8333\n",
      "Epoch 23/50\n",
      "120/120 [==============================] - 13s 105ms/step - loss: 0.0428 - acc: 0.9917 - val_loss: 1.8971 - val_acc: 0.7333\n",
      "Epoch 24/50\n",
      "120/120 [==============================] - 12s 104ms/step - loss: 0.2158 - acc: 0.9333 - val_loss: 2.8452 - val_acc: 0.6333\n",
      "Epoch 25/50\n",
      "120/120 [==============================] - 13s 105ms/step - loss: 0.2591 - acc: 0.9333 - val_loss: 0.4685 - val_acc: 0.8000\n",
      "Epoch 26/50\n",
      "120/120 [==============================] - 13s 105ms/step - loss: 0.1619 - acc: 0.9333 - val_loss: 0.5613 - val_acc: 0.8000\n",
      "Epoch 27/50\n",
      "120/120 [==============================] - 13s 110ms/step - loss: 0.1417 - acc: 0.9333 - val_loss: 4.9612 - val_acc: 0.5333\n",
      "Epoch 28/50\n",
      "120/120 [==============================] - 13s 105ms/step - loss: 0.0793 - acc: 0.9750 - val_loss: 1.9972 - val_acc: 0.7000\n",
      "Epoch 29/50\n",
      "120/120 [==============================] - 14s 114ms/step - loss: 0.0534 - acc: 0.9833 - val_loss: 3.4911 - val_acc: 0.6333\n",
      "Epoch 30/50\n",
      "120/120 [==============================] - 14s 116ms/step - loss: 0.0279 - acc: 0.9917 - val_loss: 1.5863 - val_acc: 0.8000\n",
      "Epoch 31/50\n",
      "120/120 [==============================] - 13s 109ms/step - loss: 0.1768 - acc: 0.9417 - val_loss: 4.3999 - val_acc: 0.6000\n",
      "Epoch 32/50\n",
      "120/120 [==============================] - 13s 106ms/step - loss: 0.2559 - acc: 0.9167 - val_loss: 2.3595 - val_acc: 0.6000\n",
      "Epoch 33/50\n",
      "120/120 [==============================] - 13s 107ms/step - loss: 0.2603 - acc: 0.9250 - val_loss: 2.7871 - val_acc: 0.5333\n",
      "Epoch 34/50\n",
      "120/120 [==============================] - 14s 115ms/step - loss: 0.2909 - acc: 0.8833 - val_loss: 2.7296 - val_acc: 0.5000\n",
      "Epoch 35/50\n",
      "120/120 [==============================] - 13s 108ms/step - loss: 0.1787 - acc: 0.9333 - val_loss: 1.1801 - val_acc: 0.7333\n",
      "Epoch 36/50\n",
      "120/120 [==============================] - 13s 106ms/step - loss: 0.0731 - acc: 0.9667 - val_loss: 0.9713 - val_acc: 0.8333\n",
      "Epoch 37/50\n",
      "120/120 [==============================] - 13s 106ms/step - loss: 0.0538 - acc: 0.9917 - val_loss: 1.0116 - val_acc: 0.8333\n",
      "Epoch 38/50\n",
      "120/120 [==============================] - 13s 105ms/step - loss: 0.0515 - acc: 0.9917 - val_loss: 1.0793 - val_acc: 0.8333\n",
      "Epoch 39/50\n",
      "120/120 [==============================] - 13s 105ms/step - loss: 0.0356 - acc: 0.9917 - val_loss: 1.0554 - val_acc: 0.8667\n",
      "Epoch 40/50\n",
      "120/120 [==============================] - 13s 105ms/step - loss: 0.0143 - acc: 1.0000 - val_loss: 1.2178 - val_acc: 0.8333\n",
      "Epoch 41/50\n",
      "120/120 [==============================] - 13s 104ms/step - loss: 0.0206 - acc: 0.9917 - val_loss: 1.3154 - val_acc: 0.8667\n",
      "Epoch 42/50\n",
      "120/120 [==============================] - 13s 104ms/step - loss: 0.0193 - acc: 1.0000 - val_loss: 1.3938 - val_acc: 0.8667\n",
      "Epoch 43/50\n",
      "120/120 [==============================] - 13s 105ms/step - loss: 0.0237 - acc: 0.9917 - val_loss: 1.5233 - val_acc: 0.8667\n",
      "Epoch 44/50\n",
      "120/120 [==============================] - 13s 108ms/step - loss: 0.0168 - acc: 0.9917 - val_loss: 1.1436 - val_acc: 0.8667\n",
      "Epoch 45/50\n",
      "120/120 [==============================] - 13s 107ms/step - loss: 0.0278 - acc: 0.9750 - val_loss: 1.0248 - val_acc: 0.8667\n",
      "Epoch 46/50\n",
      "120/120 [==============================] - 13s 106ms/step - loss: 0.0126 - acc: 0.9917 - val_loss: 1.0223 - val_acc: 0.8667\n",
      "Epoch 47/50\n",
      "120/120 [==============================] - 13s 108ms/step - loss: 0.0128 - acc: 1.0000 - val_loss: 1.0595 - val_acc: 0.8333\n",
      "Epoch 48/50\n",
      "120/120 [==============================] - 14s 118ms/step - loss: 0.0157 - acc: 1.0000 - val_loss: 1.2165 - val_acc: 0.8333\n",
      "Epoch 49/50\n",
      "120/120 [==============================] - 13s 109ms/step - loss: 0.0078 - acc: 1.0000 - val_loss: 1.2489 - val_acc: 0.8333\n",
      "Epoch 50/50\n",
      "120/120 [==============================] - 13s 108ms/step - loss: 0.0066 - acc: 1.0000 - val_loss: 1.0847 - val_acc: 0.8667\n"
     ]
    }
   ],
   "source": [
    "history = model.fit(X_train, y_train,\n",
    "          batch_size=12,\n",
    "          epochs=50,\n",
    "          verbose=1,\n",
    "          validation_data=(X_val, y_val))"
   ]
  },
  {
   "cell_type": "markdown",
   "metadata": {},
   "source": [
    "plota gráfico de erro e acurácia"
   ]
  },
  {
   "cell_type": "code",
   "execution_count": 12,
   "metadata": {
    "collapsed": false
   },
   "outputs": [
    {
     "data": {
      "image/png": "[encoded data removed]",
      "text/plain": [
       "<matplotlib.figure.Figure at 0x13a1614a8>"
      ]
     },
     "metadata": {},
     "output_type": "display_data"
    },
    {
     "data": {
      "image/png": "[encoded data removed]",
      "text/plain": [
       "<matplotlib.figure.Figure at 0x139f99e10>"
      ]
     },
     "metadata": {},
     "output_type": "display_data"
    }
   ],
   "source": [
    "import matplotlib.pyplot as plt\n",
    "\n",
    "plt.plot(history.history['acc'])\n",
    "plt.plot(history.history['val_acc'])\n",
    "plt.ylabel('acurácia')\n",
    "plt.xlabel('época')\n",
    "plt.legend(['treino', 'teste'], loc='upper left')\n",
    "plt.show()\n",
    "\n",
    "plt.plot(history.history['loss'])\n",
    "plt.plot(history.history['val_loss'])\n",
    "plt.ylabel('loss')\n",
    "plt.xlabel('época')\n",
    "plt.legend(['treino', 'teste'], loc='upper left')\n",
    "plt.show()"
   ]
  },
  {
   "cell_type": "markdown",
   "metadata": {},
   "source": [
    "Cria arquivo para nos enviar"
   ]
  },
  {
   "cell_type": "code",
   "execution_count": 40,
   "metadata": {
    "collapsed": false
   },
   "outputs": [],
   "source": [
    "pred = model.predict(X_test)\n",
    "np.savetxt('resul_lucas_souza.csv', pred)"
   ]
  },
  {
   "cell_type": "code",
   "execution_count": null,
   "metadata": {
    "collapsed": true
   },
   "outputs": [],
   "source": [
    "### Generators"
   ]
  },
  {
   "cell_type": "code",
   "execution_count": 16,
   "metadata": {
    "collapsed": true
   },
   "outputs": [],
   "source": [
    "batch_size = 12\n",
    "nb_train_samples = X_train.shape[0]"
   ]
  },
  {
   "cell_type": "code",
   "execution_count": 38,
   "metadata": {
    "collapsed": false
   },
   "outputs": [
    {
     "name": "stderr",
     "output_type": "stream",
     "text": [
      "/Users/lucasosouza/anaconda/envs/udacity/lib/python3.5/site-packages/keras/preprocessing/image.py:492: UserWarning: This ImageDataGenerator specifies `zca_whitening`, which overrides setting of `featurewise_center`.\n",
      "  warnings.warn('This ImageDataGenerator specifies '\n"
     ]
    }
   ],
   "source": [
    "from keras.preprocessing.image import ImageDataGenerator\n",
    "train_datagen = ImageDataGenerator(rotation_range=15,\n",
    "                                   width_shift_range=0.2,\n",
    "                                   height_shift_range=0.2,\n",
    "                                   shear_range=0.2,\n",
    "                                   zoom_range=0.2,\n",
    "                                   fill_mode='nearest',\n",
    "                                   zca_epsilon=0.1,\n",
    "                                   zca_whitening=True,\n",
    "                                   horizontal_flip=True)\n",
    "\n",
    "train_generator = train_datagen.flow(x = X_train, y= y_train,\n",
    "                                    batch_size=batch_size)  "
   ]
  },
  {
   "cell_type": "code",
   "execution_count": null,
   "metadata": {
    "collapsed": false
   },
   "outputs": [
    {
     "name": "stdout",
     "output_type": "stream",
     "text": [
      "Epoch 1/100\n"
     ]
    },
    {
     "name": "stderr",
     "output_type": "stream",
     "text": [
      "/Users/lucasosouza/anaconda/envs/udacity/lib/python3.5/site-packages/keras/preprocessing/image.py:571: UserWarning: This ImageDataGenerator specifies `featurewise_center`, but it hasn't been fit on any training data. Fit it first by calling `.fit(numpy_data)`.\n",
      "  warnings.warn('This ImageDataGenerator specifies '\n",
      "/Users/lucasosouza/anaconda/envs/udacity/lib/python3.5/site-packages/keras/preprocessing/image.py:589: UserWarning: This ImageDataGenerator specifies `zca_whitening`, but it hasn't been fit on any training data. Fit it first by calling `.fit(numpy_data)`.\n",
      "  warnings.warn('This ImageDataGenerator specifies '\n"
     ]
    },
    {
     "name": "stdout",
     "output_type": "stream",
     "text": [
      "10/10 [==============================] - 13s 1s/step - loss: 0.0651 - acc: 0.9750 - val_loss: 0.2368 - val_acc: 0.9333\n",
      "Epoch 2/100\n",
      "10/10 [==============================] - 13s 1s/step - loss: 0.1159 - acc: 0.9500 - val_loss: 0.2393 - val_acc: 0.9333\n",
      "Epoch 3/100\n",
      "10/10 [==============================] - 13s 1s/step - loss: 0.3163 - acc: 0.9250 - val_loss: 0.2362 - val_acc: 0.9333\n",
      "Epoch 4/100\n",
      " 8/10 [=======================>......] - ETA: 2s - loss: 0.0820 - acc: 0.9583"
     ]
    }
   ],
   "source": [
    "epochs = 100\n",
    "K.set_value(model.optimizer.lr, 0.00001)\n",
    "history = model.fit_generator(\n",
    "        train_generator,\n",
    "        steps_per_epoch= nb_train_samples // batch_size,\n",
    "        epochs=epochs,\n",
    "        validation_data=(X_val, y_val))"
   ]
  },
  {
   "cell_type": "code",
   "execution_count": null,
   "metadata": {
    "collapsed": false
   },
   "outputs": [],
   "source": [
    "import matplotlib.pyplot as plt\n",
    "\n",
    "plt.plot(history.history['acc'])\n",
    "plt.plot(history.history['val_acc'])\n",
    "plt.ylabel('acurácia')\n",
    "plt.xlabel('época')\n",
    "plt.legend(['treino', 'teste'], loc='upper left')\n",
    "plt.show()\n",
    "\n",
    "plt.plot(history.history['loss'])\n",
    "plt.plot(history.history['val_loss'])\n",
    "plt.ylabel('loss')\n",
    "plt.xlabel('época')\n",
    "plt.legend(['treino', 'teste'], loc='upper left')\n",
    "plt.show()"
   ]
  },
  {
   "cell_type": "code",
   "execution_count": null,
   "metadata": {
    "collapsed": true
   },
   "outputs": [],
   "source": []
  }
 ],
 "metadata": {
  "anaconda-cloud": {},
  "kernelspec": {
   "display_name": "Python [default]",
   "language": "python",
   "name": "python3"
  },
  "language_info": {
   "codemirror_mode": {
    "name": "ipython",
    "version": 3
   },
   "file_extension": ".py",
   "mimetype": "text/x-python",
   "name": "python",
   "nbconvert_exporter": "python",
   "pygments_lexer": "ipython3",
   "version": "3.5.2"
  }
 },
 "nbformat": 4,
 "nbformat_minor": 2
}
