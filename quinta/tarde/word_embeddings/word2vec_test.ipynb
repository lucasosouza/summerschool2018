{
 "cells": [
  {
   "cell_type": "markdown",
   "metadata": {
    "collapsed": true,
    "deletable": true,
    "editable": true
   },
   "source": [
    "# _Word Embeddings_\n",
    "\n",
    "Neste notebook testaremos o modelo gerado em word2vec_train.ipynb em uma tarefa intrínseca de analogia semântica usando álgebra vetorial."
   ]
  },
  {
   "cell_type": "code",
   "execution_count": 1,
   "metadata": {
    "collapsed": true,
    "deletable": true,
    "editable": true
   },
   "outputs": [],
   "source": [
    "import gensim"
   ]
  },
  {
   "cell_type": "markdown",
   "metadata": {
    "deletable": true,
    "editable": true
   },
   "source": [
    "Caminho onde salvamos o modelo treinado."
   ]
  },
  {
   "cell_type": "code",
   "execution_count": 4,
   "metadata": {
    "collapsed": true,
    "deletable": true,
    "editable": true
   },
   "outputs": [],
   "source": [
    "#import data\n",
    "# outp = \"model/word2vec/wiki.pt-br.word2vec.model\"\n",
    "outp = \"model/wiki.pt-br.word2vec.model\""
   ]
  },
  {
   "cell_type": "markdown",
   "metadata": {
    "deletable": true,
    "editable": true
   },
   "source": [
    "Load do modelo treinado. Trata-se de arquivo .model gerado no momento do .save do notebook anterior."
   ]
  },
  {
   "cell_type": "code",
   "execution_count": 6,
   "metadata": {
    "collapsed": false,
    "deletable": true,
    "editable": true
   },
   "outputs": [],
   "source": [
    "#Load data\n",
    "model = gensim.models.Word2Vec.load(outp)"
   ]
  },
  {
   "cell_type": "markdown",
   "metadata": {
    "deletable": true,
    "editable": true
   },
   "source": [
    "## Inferências\n",
    "\n",
    "A similaridade semântica entre duas palavras pode ser dada pelo cosseno entre seus vetores correspondentes. Em geral, o cosseno é definido como na equação abaixo, onde $\\vec{x}$ e $\\vec{y}$ são os vetores sendo comparados. Esse valor mede a distância entre os diferentes contextos de ocorrência das palavras que estão sendo comparadas.\n",
    "\n",
    "$$ cos(\\vec{x}|\\vec{y}) = \\frac{\\vec{x}.\\vec{y}}{|\\vec{x}||\\vec{y}|} $$\n",
    "\n",
    "* **most_similar**: Calcula a similaridade de cosseno entre uma média simples dos vetores de peso das palavras dadas e os vetores de peso de cada uma."
   ]
  },
  {
   "cell_type": "code",
   "execution_count": 7,
   "metadata": {
    "collapsed": false,
    "deletable": true,
    "editable": true
   },
   "outputs": [
    {
     "data": {
      "text/plain": [
       "[('rainha', 0.5998885631561279),\n",
       " ('infanta', 0.5175216197967529),\n",
       " ('esposa', 0.5153735876083374),\n",
       " ('princesa', 0.4921027421951294),\n",
       " ('consorte', 0.4745575785636902),\n",
       " ('concubina', 0.4690343141555786),\n",
       " ('sobrinha', 0.468613862991333),\n",
       " ('coroação', 0.4684310555458069),\n",
       " ('imperatriz', 0.4636218845844269),\n",
       " ('herdeira', 0.46138229966163635)]"
      ]
     },
     "execution_count": 7,
     "metadata": {},
     "output_type": "execute_result"
    }
   ],
   "source": [
    "model.wv.most_similar(positive=['rei', 'mulher'], negative=['homem'])"
   ]
  },
  {
   "cell_type": "code",
   "execution_count": 8,
   "metadata": {
    "collapsed": false,
    "deletable": true,
    "editable": true
   },
   "outputs": [
    {
     "data": {
      "text/plain": [
       "[('dilma', 0.616957426071167),\n",
       " ('rousseff', 0.5910518169403076),\n",
       " ('presidenta', 0.5708197355270386),\n",
       " ('erundina', 0.539116621017456),\n",
       " ('fhc', 0.5024099946022034),\n",
       " ('roussef', 0.5009822249412537),\n",
       " ('senadora', 0.4953608512878418),\n",
       " ('candidata', 0.4902377724647522),\n",
       " ('prefeita', 0.4872865080833435),\n",
       " ('collor', 0.4813472032546997)]"
      ]
     },
     "execution_count": 8,
     "metadata": {},
     "output_type": "execute_result"
    }
   ],
   "source": [
    "model.wv.most_similar(positive=['lula', 'mulher'], negative=['homem'])"
   ]
  },
  {
   "cell_type": "code",
   "execution_count": 9,
   "metadata": {
    "collapsed": false,
    "deletable": true,
    "editable": true
   },
   "outputs": [
    {
     "data": {
      "text/plain": [
       "[('advogada', 0.5905736684799194),\n",
       " ('enfermeira', 0.5875864028930664),\n",
       " ('professora', 0.5737103223800659),\n",
       " ('juíza', 0.5608787536621094),\n",
       " ('secretária', 0.5587211847305298),\n",
       " ('empresária', 0.5529030561447144),\n",
       " ('psicóloga', 0.552836537361145),\n",
       " ('conselheira', 0.5451488494873047),\n",
       " ('escritora', 0.5234506130218506),\n",
       " ('aluna', 0.5145357251167297)]"
      ]
     },
     "execution_count": 9,
     "metadata": {},
     "output_type": "execute_result"
    }
   ],
   "source": [
    "model.wv.most_similar(positive=['advogado', 'mulher'], negative=['homem'])"
   ]
  },
  {
   "cell_type": "code",
   "execution_count": 10,
   "metadata": {
    "collapsed": false,
    "deletable": true,
    "editable": true
   },
   "outputs": [
    {
     "data": {
      "text/plain": [
       "[('enfermeira', 0.5925452709197998),\n",
       " ('professora', 0.530286431312561),\n",
       " ('aluna', 0.49227654933929443),\n",
       " ('freira', 0.4772016108036041),\n",
       " ('psiquiátrico', 0.4731864333152771),\n",
       " ('clínica', 0.47161048650741577),\n",
       " ('neurologista', 0.46897685527801514),\n",
       " ('policlínica', 0.46458756923675537),\n",
       " ('medico', 0.461367130279541),\n",
       " ('sanitarista', 0.46121320128440857)]"
      ]
     },
     "execution_count": 10,
     "metadata": {},
     "output_type": "execute_result"
    }
   ],
   "source": [
    "model.wv.most_similar(positive=['médico', 'mulher'], negative=['homem'])"
   ]
  },
  {
   "cell_type": "code",
   "execution_count": 11,
   "metadata": {
    "collapsed": false,
    "deletable": true,
    "editable": true
   },
   "outputs": [
    {
     "data": {
      "text/plain": [
       "[('desenvolvedora', 0.46126478910446167),\n",
       " ('designer', 0.4490245580673218),\n",
       " ('suíte', 0.44662779569625854),\n",
       " ('programadora', 0.4455236792564392),\n",
       " ('oracle', 0.443240225315094),\n",
       " ('empresária', 0.4425097107887268),\n",
       " ('enfermeira', 0.44099318981170654),\n",
       " ('ada', 0.4392540454864502),\n",
       " ('blender', 0.43513041734695435),\n",
       " ('senha', 0.4260558784008026)]"
      ]
     },
     "execution_count": 11,
     "metadata": {},
     "output_type": "execute_result"
    }
   ],
   "source": [
    "model.wv.most_similar(positive=['programador', 'mulher'], negative=['homem'])"
   ]
  },
  {
   "cell_type": "code",
   "execution_count": 12,
   "metadata": {
    "collapsed": false,
    "deletable": true,
    "editable": true
   },
   "outputs": [
    {
     "data": {
      "text/plain": [
       "[('paris', 0.561272382736206),\n",
       " ('normandia', 0.4568740129470825),\n",
       " ('estrasburgo', 0.4482569694519043),\n",
       " ('lyon', 0.4409293830394745),\n",
       " ('toulouse', 0.4188220798969269),\n",
       " ('aquitânia', 0.411555677652359),\n",
       " ('bordéus', 0.40900811553001404),\n",
       " ('flandres', 0.4077877402305603),\n",
       " ('francesa', 0.407457560300827),\n",
       " ('marselha', 0.4021693170070648)]"
      ]
     },
     "execution_count": 12,
     "metadata": {},
     "output_type": "execute_result"
    }
   ],
   "source": [
    "model.wv.most_similar(positive=['frança', 'lisboa'], negative=['portugal'])"
   ]
  },
  {
   "cell_type": "code",
   "execution_count": 13,
   "metadata": {
    "collapsed": false,
    "deletable": true,
    "editable": true
   },
   "outputs": [
    {
     "data": {
      "text/plain": [
       "[('prostituta', 0.5223963260650635),\n",
       " ('companheira', 0.5102306604385376),\n",
       " ('noiva', 0.49204903841018677),\n",
       " ('enteada', 0.49043285846710205),\n",
       " ('madrasta', 0.4828101098537445),\n",
       " ('descarada', 0.47389286756515503),\n",
       " ('obesa', 0.4656273126602173),\n",
       " ('sogra', 0.46532925963401794),\n",
       " ('tia', 0.4651046395301819),\n",
       " ('sobrinha', 0.4624346196651459)]"
      ]
     },
     "execution_count": 13,
     "metadata": {},
     "output_type": "execute_result"
    }
   ],
   "source": [
    "model.wv.most_similar(positive=['insuportável', 'mulher'], negative=['homem'])"
   ]
  },
  {
   "cell_type": "code",
   "execution_count": 14,
   "metadata": {
    "collapsed": false,
    "deletable": true,
    "editable": true
   },
   "outputs": [
    {
     "data": {
      "text/plain": [
       "[('minnie', 0.5374959707260132),\n",
       " ('namorada', 0.5305522084236145),\n",
       " ('donna', 0.529172956943512),\n",
       " ('lady', 0.5256546139717102),\n",
       " ('sitcom', 0.5244453549385071),\n",
       " ('barbie', 0.518653392791748),\n",
       " ('wonder', 0.5087754130363464),\n",
       " ('carol', 0.5078904628753662),\n",
       " ('girl', 0.507034420967102),\n",
       " ('friends', 0.5016940832138062)]"
      ]
     },
     "execution_count": 14,
     "metadata": {},
     "output_type": "execute_result"
    }
   ],
   "source": [
    "model.wv.most_similar(positive=['mickey', 'mulher'], negative=['homem'])"
   ]
  },
  {
   "cell_type": "code",
   "execution_count": 21,
   "metadata": {
    "collapsed": false,
    "deletable": true,
    "editable": true
   },
   "outputs": [
    {
     "data": {
      "text/plain": [
       "[('mitsubishi', 0.5883139371871948),\n",
       " ('hyundai', 0.5799862146377563),\n",
       " ('daewoo', 0.5687156915664673),\n",
       " ('mpfi', 0.5599157810211182),\n",
       " ('hitachi', 0.5496347546577454),\n",
       " ('flex', 0.54828941822052),\n",
       " ('lg', 0.5435440540313721),\n",
       " ('panasonic', 0.543103039264679),\n",
       " ('nippon', 0.5389177799224854),\n",
       " ('electronics', 0.5383756160736084)]"
      ]
     },
     "execution_count": 21,
     "metadata": {},
     "output_type": "execute_result"
    }
   ],
   "source": [
    "model.wv.most_similar(positive=['samsung'], negative=['pesquisa'])"
   ]
  },
  {
   "cell_type": "code",
   "execution_count": 28,
   "metadata": {
    "collapsed": false
   },
   "outputs": [
    {
     "data": {
      "text/plain": [
       "[('udn', 0.6106920838356018),\n",
       " ('pcb', 0.5953342318534851),\n",
       " ('partidária', 0.589873731136322),\n",
       " ('reeleição', 0.5796040892601013),\n",
       " ('oposicionista', 0.5787214636802673),\n",
       " ('candidatura', 0.5701695084571838),\n",
       " ('psol', 0.566841185092926),\n",
       " ('pcdob', 0.5663765668869019),\n",
       " ('militância', 0.5632766485214233),\n",
       " ('direita', 0.5573121309280396)]"
      ]
     },
     "execution_count": 28,
     "metadata": {},
     "output_type": "execute_result"
    }
   ],
   "source": [
    "model.wv.most_similar(positive=['política', 'esquerda', 'candidato'])#, negative=['lula'])"
   ]
  },
  {
   "cell_type": "code",
   "execution_count": 16,
   "metadata": {
    "collapsed": false,
    "deletable": true,
    "editable": true
   },
   "outputs": [
    {
     "data": {
      "text/plain": [
       "[('anarquismo', 0.5874557495117188),\n",
       " ('marxismo', 0.5671641826629639),\n",
       " ('construtivismo', 0.5438551306724548),\n",
       " ('positivismo', 0.5404755473136902),\n",
       " ('historicismo', 0.5372979044914246),\n",
       " ('humanismo', 0.5355674028396606),\n",
       " ('racionalista', 0.5326426029205322),\n",
       " ('leninismo', 0.5319279432296753),\n",
       " ('utópico', 0.5310670733451843),\n",
       " ('racionalismo', 0.5300279259681702)]"
      ]
     },
     "execution_count": 16,
     "metadata": {},
     "output_type": "execute_result"
    }
   ],
   "source": [
    "model.wv.most_similar(positive=['capitalismo'], negative=['dinheiro'])"
   ]
  },
  {
   "cell_type": "code",
   "execution_count": 17,
   "metadata": {
    "collapsed": false,
    "deletable": true,
    "editable": true
   },
   "outputs": [
    {
     "data": {
      "text/plain": [
       "[('francês', 0.3928147256374359),\n",
       " ('guesclin', 0.3825073540210724),\n",
       " ('jean', 0.34426581859588623),\n",
       " ('armagnac', 0.3391675055027008),\n",
       " ('jacques', 0.3275548219680786),\n",
       " ('bourbon', 0.32562243938446045),\n",
       " ('roi', 0.3254525363445282),\n",
       " ('bettencourt', 0.31784045696258545),\n",
       " ('condestável', 0.3112909495830536),\n",
       " ('saint', 0.3096192479133606)]"
      ]
     },
     "execution_count": 17,
     "metadata": {},
     "output_type": "execute_result"
    }
   ],
   "source": [
    "model.wv.most_similar(positive=['frança'], negative=['alemanha'])"
   ]
  },
  {
   "cell_type": "code",
   "execution_count": 20,
   "metadata": {
    "collapsed": false
   },
   "outputs": [
    {
     "data": {
      "text/plain": [
       "[('francês', 0.3928147256374359),\n",
       " ('guesclin', 0.3825073540210724),\n",
       " ('jean', 0.34426581859588623),\n",
       " ('armagnac', 0.3391675055027008),\n",
       " ('jacques', 0.3275548219680786),\n",
       " ('bourbon', 0.32562243938446045),\n",
       " ('roi', 0.3254525363445282),\n",
       " ('bettencourt', 0.31784045696258545),\n",
       " ('condestável', 0.3112909495830536),\n",
       " ('saint', 0.3096192479133606)]"
      ]
     },
     "execution_count": 20,
     "metadata": {},
     "output_type": "execute_result"
    }
   ],
   "source": [
    "model.wv.most_similar(positive=['frança'], negative=['alemanha'])"
   ]
  },
  {
   "cell_type": "code",
   "execution_count": 31,
   "metadata": {
    "collapsed": false
   },
   "outputs": [
    {
     "data": {
      "text/plain": [
       "[('lituânia', 0.593022346496582),\n",
       " ('dialeto', 0.5866165161132812),\n",
       " ('falado', 0.5849958658218384),\n",
       " ('suíça', 0.5844265818595886),\n",
       " ('romênia', 0.5661618709564209),\n",
       " ('croácia', 0.5622058510780334),\n",
       " ('bokmål', 0.5556226372718811),\n",
       " ('polônia', 0.554561197757721),\n",
       " ('finlândia', 0.5520687699317932),\n",
       " ('eslováquia', 0.5359055995941162)]"
      ]
     },
     "execution_count": 31,
     "metadata": {},
     "output_type": "execute_result"
    }
   ],
   "source": [
    "model.wv.most_similar(positive=['idioma', 'bélgica'])"
   ]
  },
  {
   "cell_type": "code",
   "execution_count": null,
   "metadata": {
    "collapsed": true
   },
   "outputs": [],
   "source": []
  }
 ],
 "metadata": {
  "kernelspec": {
   "display_name": "Python [default]",
   "language": "python",
   "name": "python3"
  },
  "language_info": {
   "codemirror_mode": {
    "name": "ipython",
    "version": 3
   },
   "file_extension": ".py",
   "mimetype": "text/x-python",
   "name": "python",
   "nbconvert_exporter": "python",
   "pygments_lexer": "ipython3",
   "version": "3.5.2"
  }
 },
 "nbformat": 4,
 "nbformat_minor": 0
}
